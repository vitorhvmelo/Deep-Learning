{
 "cells": [
  {
   "cell_type": "markdown",
   "metadata": {
    "colab_type": "text",
    "id": "zxjWgsDSSDmX"
   },
   "source": [
    "# Importações\n",
    "\n",
    "  Prestar **atenção** que o KERAS foi incorporado no TensorFLow 2.0, dessa madeira a importaçao dos modulos keras deve ser feita como **tensorflow.keras**\n",
    "\n",
    "\n",
    "\n",
    "\n"
   ]
  },
  {
   "cell_type": "code",
   "execution_count": 1,
   "metadata": {
    "colab": {},
    "colab_type": "code",
    "id": "tYOLsZ0cSh2S"
   },
   "outputs": [],
   "source": [
    "\n",
    "import matplotlib.pyplot as plt\n",
    "import numpy as np\n",
    "from tensorflow.keras.datasets import mnist \n",
    "from tensorflow.keras.models import Sequential \n",
    "from tensorflow.keras.layers import Dense, Flatten, Dropout \n",
    "from tensorflow.python.keras.utils import np_utils \n",
    "from tensorflow.keras.layers import Conv2D, MaxPooling2D \n",
    "from tensorflow.python.keras.layers.normalization import BatchNormalization \n"
   ]
  },
  {
   "cell_type": "markdown",
   "metadata": {
    "colab_type": "text",
    "id": "zhClDGhiV7sv"
   },
   "source": [
    "# Tratamento dos dados\n",
    "\n",
    " Obs: As variáveis **dummys** devem ser utilizadas sempre que desejarmos incluir variáveis **categóricas** em modelos que aceitam apenas variáveis **numéricas**."
   ]
  },
  {
   "cell_type": "code",
   "execution_count": 2,
   "metadata": {
    "colab": {
     "base_uri": "https://localhost:8080/",
     "height": 281
    },
    "colab_type": "code",
    "id": "o7APJS3xT3hb",
    "outputId": "aae18c8f-4b8b-482e-f048-ce99a2ee805b"
   },
   "outputs": [
    {
     "data": {
      "image/png": "[encoded data removed]",
      "text/plain": [
       "<Figure size 432x288 with 1 Axes>"
      ]
     },
     "metadata": {
      "needs_background": "light"
     },
     "output_type": "display_data"
    }
   ],
   "source": [
    "(X_treinamento, y_treinamento), (X_teste, y_teste) = mnist.load_data() #Fazemos a importaçao do MNIST\n",
    "plt.imshow(X_treinamento[1], cmap = 'gray') #abrimos como exemplo o treinamento [1], e colocacamos e  escala preto e branco\n",
    "plt.title('Classe ' + str(y_treinamento[1])) #Titulo\n",
    "\n",
    "previsores_treinamento = X_treinamento.reshape(X_treinamento.shape[0],\n",
    "                                               28, 28, 1) #Fazemos o reshape para que o TF consiga ler os dados\n",
    "previsores_teste = X_teste.reshape(X_teste.shape[0], 28, 28, 1)\n",
    "previsores_treinamento = previsores_treinamento.astype('float32') #Mudamos para float para podermos dividir logo abaixo\n",
    "previsores_teste = previsores_teste.astype('float32')\n",
    "\n",
    "previsores_treinamento /= 255 #Normalizaçao (1) Pra diminuir o custo operacional, dividimos os valores RGB por 255, \n",
    "                              #dessa forma temos uma escala de 0 ate 1\n",
    "previsores_teste /= 255\n",
    "\n",
    "classe_treinamento = np_utils.to_categorical(y_treinamento, 10) #Transformamos os dados em variaveis dummy\n",
    "classe_teste = np_utils.to_categorical(y_teste, 10)"
   ]
  },
  {
   "cell_type": "markdown",
   "metadata": {
    "colab_type": "text",
    "id": "w-GdqQBSX88y"
   },
   "source": [
    "# Estrutura da Rede Neural\n",
    "\n",
    "#       Conv2d:\n",
    "\n",
    "\n",
    "1.  Primeiro parametro: filters 32 Kernels diferents que serao testados, o recomendavel é começar com 64\n",
    "2.  Segundo parametro: kernel_size: o tamanho do kernel\n",
    "\n"
   ]
  },
  {
   "cell_type": "code",
   "execution_count": 4,
   "metadata": {
    "colab": {
     "base_uri": "https://localhost:8080/",
     "height": 803
    },
    "colab_type": "code",
    "id": "reHCks0oU5f-",
    "outputId": "e059ac4d-beec-4804-9286-60bf4dbe5622",
    "scrolled": true
   },
   "outputs": [
    {
     "name": "stdout",
     "output_type": "stream",
     "text": [
      "Train on 60000 samples, validate on 10000 samples\n",
      "Epoch 1/2\n",
      "60000/60000 [==============================] - 48s 805us/sample - loss: 0.2171 - accuracy: 0.9336 - val_loss: 0.1155 - val_accuracy: 0.9640\n",
      "Epoch 2/2\n",
      "60000/60000 [==============================] - 46s 764us/sample - loss: 0.0654 - accuracy: 0.9806 - val_loss: 0.0699 - val_accuracy: 0.9802\n"
     ]
    },
    {
     "data": {
      "text/plain": [
       "<tensorflow.python.keras.callbacks.History at 0x2624c7d1c08>"
      ]
     },
     "execution_count": 4,
     "metadata": {},
     "output_type": "execute_result"
    }
   ],
   "source": [
    "classificador = Sequential()\n",
    "#       ======Primeira Camada Convolucional ======\n",
    "classificador.add(Conv2D(32, (3,3), \n",
    "                         input_shape=(28, 28, 1),\n",
    "                         activation = 'relu')) #Operador de Convoluçao\n",
    "classificador.add(BatchNormalization()) #Segue uma forma parecida da normalizaçao anterior(1), mas agora nas camadas de conv.\n",
    "classificador.add(MaxPooling2D(pool_size = (2,2))) #Operador de Pooling\n",
    "#classificador.add(Flatten()) Flatening somente na ultima camada de convoluçao\n",
    "\n",
    "#       ======Segunda Camada Convolucional ======\n",
    "classificador.add(Conv2D(32, (3,3), activation = 'relu')) #Vale notar que precisamos passar o shape so na primeira camada\n",
    "classificador.add(BatchNormalization()) \n",
    "classificador.add(MaxPooling2D(pool_size = (2,2)))\n",
    "classificador.add(Flatten()) #Operador de Flatening\n",
    "\n",
    "\n",
    "classificador.add(Dense(units = 128, activation = 'relu')) #1 camada oculta\n",
    "classificador.add(Dropout(0.2)) #Recomendavel colocar pq redes conv tem muitas entradas, evitando overfittining\n",
    "classificador.add(Dense(units = 128, activation = 'relu')) #2 camada oculta\n",
    "classificador.add(Dropout(0.2))\n",
    "classificador.add(Dense(units = 10, \n",
    "                        activation = 'softmax'))\n",
    "classificador.compile(loss = 'categorical_crossentropy',\n",
    "                      optimizer = 'adam', metrics = ['accuracy'])\n",
    "classificador.fit(previsores_treinamento, classe_treinamento,\n",
    "                  batch_size = 128, epochs = 2,\n",
    "                  validation_data = (previsores_teste, classe_teste))\n"
   ]
  },
  {
   "cell_type": "markdown",
   "metadata": {},
   "source": [
    "# Teste de uma unica amostra\n"
   ]
  },
  {
   "cell_type": "code",
   "execution_count": 26,
   "metadata": {},
   "outputs": [
    {
     "name": "stdout",
     "output_type": "stream",
     "text": [
      "Digite a posiçao do dado que deseja analisar200\n",
      "\n",
      "A classe analisada foi a CLASSE 3 e a rede detectou a CLASSE 3\n",
      "\n",
      "O peso com os resultados foi: [[2.5041511e-06 5.8659964e-05 1.8597677e-05 9.9864322e-01 3.0834708e-06\n",
      "  1.9222731e-04 4.4618550e-06 5.2067677e-05 1.4482194e-04 8.8032038e-04]]\n"
     ]
    },
    {
     "data": {
      "image/png": "[encoded data removed]",
      "text/plain": [
       "<Figure size 432x288 with 1 Axes>"
      ]
     },
     "metadata": {
      "needs_background": "light"
     },
     "output_type": "display_data"
    }
   ],
   "source": [
    "# Nesse exemplo escolhi a primeira imagem da base de teste e abaixo você\n",
    "# pode visualizar que trata-se do número 7\n",
    "num_test = int(input('Digite a posiçao do dado que deseja analisar:  '))\n",
    "plt.imshow(X_teste[num_test], cmap = 'gray')\n",
    "plt.title('Classe ' + str(y_teste[num_test]))\n",
    "\n",
    "# Criamos uma única variável que armazenará a imagem a ser classificada e\n",
    "# também fazemos a transformação na dimensão para o tensorflow processar\n",
    "imagem_teste = X_teste[num_test].reshape(1, 28, 28, 1)\n",
    "\n",
    "# Convertermos para float para em seguida podermos aplicar a normalização\n",
    "imagem_teste = imagem_teste.astype('float32')\n",
    "imagem_teste /= 255\n",
    "\n",
    "# Fazemos a previsão, passando como parâmetro a imagem.\n",
    "#Como temos um problema multiclasse e a função de ativação softmax, será\n",
    "# gerada uma probabilidade para cada uma das classes. A variável previsão\n",
    "# terá a dimensão 1, 10 (uma linha e dez colunas), sendo que em cada coluna\n",
    "# estará o valor de probabilidade de cada classe\n",
    "previsoes = classificador.predict(imagem_teste)\n",
    "\n",
    "# Como cada índice do vetor representa um número entre 0 e 9, basta agora buscarmos qual é o maior índice e o retornarmos. \n",
    "resultado = np.argmax(previsoes)\n",
    "print(f'''\\nA classe analisada foi a CLASSE {y_teste[num_test]} e a rede detectou a CLASSE {resultado}\n",
    "\n",
    "O peso com os resultados foi: {previsoes}''')\n"
   ]
  },
  {
   "cell_type": "code",
   "execution_count": null,
   "metadata": {},
   "outputs": [],
   "source": []
  }
 ],
 "metadata": {
  "colab": {
   "name": "mnist.ipynb",
   "provenance": []
  },
  "kernelspec": {
   "display_name": "Python 3",
   "language": "python",
   "name": "python3"
  },
  "language_info": {
   "codemirror_mode": {
    "name": "ipython",
    "version": 3
   },
   "file_extension": ".py",
   "mimetype": "text/x-python",
   "name": "python",
   "nbconvert_exporter": "python",
   "pygments_lexer": "ipython3",
   "version": "3.7.4"
  }
 },
 "nbformat": 4,
 "nbformat_minor": 1
}
